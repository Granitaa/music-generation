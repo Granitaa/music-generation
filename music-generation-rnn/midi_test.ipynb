{
 "cells": [
  {
   "cell_type": "code",
   "execution_count": 1,
   "metadata": {},
   "outputs": [],
   "source": [
    "import pretty_midi"
   ]
  },
  {
   "cell_type": "code",
   "execution_count": 2,
   "metadata": {},
   "outputs": [],
   "source": [
    "import numpy as np\n",
    "import pandas as pd"
   ]
  },
  {
   "cell_type": "code",
   "execution_count": null,
   "metadata": {},
   "outputs": [],
   "source": [
    "cello_c_chord = pretty_midi.PrettyMIDI()\n",
    "# Create an Instrument instance for a cello instrument\n",
    "cello_program = pretty_midi.instrument_name_to_program('Cello')\n",
    "cello = pretty_midi.Instrument(program=cello_program)\n",
    "# Iterate over note names, which will be converted to note number later\n",
    "for note_name in ['C5', 'E5', 'G5']:\n",
    "    # Retrieve the MIDI note number for this note name\n",
    "    note_number = pretty_midi.note_name_to_number(note_name)\n",
    "    # Create a Note instance, starting at 0s and ending at .5s\n",
    "    note = pretty_midi.Note(\n",
    "        velocity=100, pitch=note_number, start=0, end=.5)\n",
    "    # Add it to our cello instrument\n",
    "    cello.notes.append(note)\n",
    "# Add the cello instrument to the PrettyMIDI object\n",
    "cello_c_chord.instruments.append(cello)\n",
    "# Write out the MIDI data\n",
    "cello_c_chord.write('cello-C-chord.mid')"
   ]
  },
  {
   "cell_type": "code",
   "execution_count": null,
   "metadata": {},
   "outputs": [],
   "source": [
    "midi_data = pretty_midi.PrettyMIDI('example.mid')\n",
    "# Print an empirical estimate of its global tempo\n",
    "print midi_data.estimate_tempo()\n",
    "# Compute the relative amount of each semitone across the entire song,\n",
    "# a proxy for key\n",
    "total_velocity = sum(sum(midi_data.get_chroma()))\n",
    "print [sum(semitone)/total_velocity for semitone in midi_data.get_chroma()]\n",
    "# Shift all notes up by 5 semitones\n",
    "for instrument in midi_data.instruments:\n",
    "    # Don't want to shift drum notes\n",
    "    if not instrument.is_drum:\n",
    "        for note in instrument.notes:\n",
    "            note.pitch += 5\n",
    "# Synthesize the resulting MIDI data using sine waves\n",
    "audio_data = midi_data.synthesize()"
   ]
  },
  {
   "cell_type": "code",
   "execution_count": 3,
   "metadata": {},
   "outputs": [],
   "source": [
    "midi_data = pretty_midi.PrettyMIDI('ashover_simple_chords_5.mid')"
   ]
  },
  {
   "cell_type": "code",
   "execution_count": 11,
   "metadata": {},
   "outputs": [
    {
     "name": "stdout",
     "output_type": "stream",
     "text": [
      "192.0\n"
     ]
    }
   ],
   "source": [
    "print(midi_data.estimate_tempo())"
   ]
  },
  {
   "cell_type": "code",
   "execution_count": 9,
   "metadata": {},
   "outputs": [
    {
     "name": "stdout",
     "output_type": "stream",
     "text": [
      "[105. 105. 105. ... 320. 320. 320.]\n"
     ]
    }
   ],
   "source": [
    "print(sum(midi_data.get_chroma()))"
   ]
  },
  {
   "cell_type": "code",
   "execution_count": 10,
   "metadata": {},
   "outputs": [
    {
     "data": {
      "text/plain": [
       "192.0"
      ]
     },
     "execution_count": 10,
     "metadata": {},
     "output_type": "execute_result"
    }
   ],
   "source": [
    "midi_data.estimate_tempo()"
   ]
  },
  {
   "cell_type": "code",
   "execution_count": 17,
   "metadata": {},
   "outputs": [
    {
     "data": {
      "text/plain": [
       "array([0.        , 0.02263388, 0.04517781, ..., 0.        , 0.        ,\n",
       "       0.        ])"
      ]
     },
     "execution_count": 17,
     "metadata": {},
     "output_type": "execute_result"
    }
   ],
   "source": [
    "midi_data.synthesize()"
   ]
  },
  {
   "cell_type": "code",
   "execution_count": 16,
   "metadata": {
    "collapsed": true
   },
   "outputs": [
    {
     "name": "stdout",
     "output_type": "stream",
     "text": [
      "[Note(start=0.000000, end=0.248958, pitch=69, velocity=105), Note(start=0.250000, end=0.498958, pitch=74, velocity=105), Note(start=0.500000, end=0.748958, pitch=73, velocity=80), Note(start=0.750000, end=0.998958, pitch=74, velocity=80), Note(start=1.000000, end=1.248958, pitch=76, velocity=80), Note(start=1.250000, end=1.748958, pitch=78, velocity=95), Note(start=1.750000, end=2.248958, pitch=69, velocity=80), Note(start=2.250000, end=2.748958, pitch=71, velocity=105), Note(start=2.750000, end=3.248958, pitch=76, velocity=80), Note(start=3.250000, end=3.748958, pitch=73, velocity=95), Note(start=3.750000, end=4.248958, pitch=69, velocity=80), Note(start=4.250000, end=4.498958, pitch=74, velocity=105), Note(start=4.500000, end=4.748958, pitch=73, velocity=80), Note(start=4.750000, end=4.998958, pitch=74, velocity=80), Note(start=5.000000, end=5.248958, pitch=76, velocity=80), Note(start=5.250000, end=5.498958, pitch=78, velocity=95), Note(start=5.500000, end=5.748958, pitch=76, velocity=80), Note(start=5.750000, end=5.998958, pitch=74, velocity=80), Note(start=6.000000, end=6.248958, pitch=73, velocity=80), Note(start=6.250000, end=6.748958, pitch=71, velocity=105), Note(start=6.750000, end=7.248958, pitch=76, velocity=80), Note(start=7.250000, end=7.748958, pitch=81, velocity=95), Note(start=7.750000, end=8.248958, pitch=69, velocity=80), Note(start=8.250000, end=8.498958, pitch=74, velocity=105), Note(start=8.500000, end=8.748958, pitch=73, velocity=80), Note(start=8.750000, end=8.998958, pitch=74, velocity=80), Note(start=9.000000, end=9.248958, pitch=76, velocity=80), Note(start=9.250000, end=9.498958, pitch=78, velocity=95), Note(start=9.500000, end=9.748958, pitch=76, velocity=80), Note(start=9.750000, end=9.998958, pitch=74, velocity=80), Note(start=10.000000, end=10.248958, pitch=73, velocity=80), Note(start=10.250000, end=10.748958, pitch=71, velocity=105), Note(start=10.750000, end=11.248958, pitch=76, velocity=80), Note(start=11.250000, end=11.748958, pitch=73, velocity=95), Note(start=11.750000, end=12.248958, pitch=69, velocity=80), Note(start=12.250000, end=12.498958, pitch=71, velocity=105), Note(start=12.500000, end=12.748958, pitch=73, velocity=80), Note(start=12.750000, end=12.998958, pitch=74, velocity=80), Note(start=13.000000, end=13.248958, pitch=71, velocity=80), Note(start=13.250000, end=13.498958, pitch=73, velocity=95), Note(start=13.500000, end=13.748958, pitch=74, velocity=80), Note(start=13.750000, end=13.998958, pitch=76, velocity=80), Note(start=14.000000, end=14.248958, pitch=73, velocity=80), Note(start=14.250000, end=15.248958, pitch=74, velocity=105), Note(start=15.250000, end=15.748958, pitch=74, velocity=95), Note(start=15.750000, end=16.248958, pitch=69, velocity=80), Note(start=16.250000, end=16.498958, pitch=74, velocity=105), Note(start=16.500000, end=16.748958, pitch=73, velocity=80), Note(start=16.750000, end=16.998958, pitch=74, velocity=80), Note(start=17.000000, end=17.248958, pitch=76, velocity=80), Note(start=17.250000, end=17.748958, pitch=78, velocity=95), Note(start=17.750000, end=18.248958, pitch=69, velocity=80), Note(start=18.250000, end=18.748958, pitch=71, velocity=105), Note(start=18.750000, end=19.248958, pitch=76, velocity=80), Note(start=19.250000, end=19.748958, pitch=73, velocity=95), Note(start=19.750000, end=20.248958, pitch=69, velocity=80), Note(start=20.250000, end=20.498958, pitch=74, velocity=105), Note(start=20.500000, end=20.748958, pitch=73, velocity=80), Note(start=20.750000, end=20.998958, pitch=74, velocity=80), Note(start=21.000000, end=21.248958, pitch=76, velocity=80), Note(start=21.250000, end=21.498958, pitch=78, velocity=95), Note(start=21.500000, end=21.748958, pitch=76, velocity=80), Note(start=21.750000, end=21.998958, pitch=74, velocity=80), Note(start=22.000000, end=22.248958, pitch=73, velocity=80), Note(start=22.250000, end=22.748958, pitch=71, velocity=105), Note(start=22.750000, end=23.248958, pitch=76, velocity=80), Note(start=23.250000, end=23.748958, pitch=81, velocity=95), Note(start=23.750000, end=24.248958, pitch=69, velocity=80), Note(start=24.250000, end=24.498958, pitch=74, velocity=105), Note(start=24.500000, end=24.748958, pitch=73, velocity=80), Note(start=24.750000, end=24.998958, pitch=74, velocity=80), Note(start=25.000000, end=25.248958, pitch=76, velocity=80), Note(start=25.250000, end=25.498958, pitch=78, velocity=95), Note(start=25.500000, end=25.748958, pitch=76, velocity=80), Note(start=25.750000, end=25.998958, pitch=74, velocity=80), Note(start=26.000000, end=26.248958, pitch=73, velocity=80), Note(start=26.250000, end=26.748958, pitch=71, velocity=105), Note(start=26.750000, end=27.248958, pitch=76, velocity=80), Note(start=27.250000, end=27.748958, pitch=73, velocity=95), Note(start=27.750000, end=28.248958, pitch=69, velocity=80), Note(start=28.250000, end=28.498958, pitch=71, velocity=105), Note(start=28.500000, end=28.748958, pitch=73, velocity=80), Note(start=28.750000, end=28.998958, pitch=74, velocity=80), Note(start=29.000000, end=29.248958, pitch=71, velocity=80), Note(start=29.250000, end=29.498958, pitch=73, velocity=95), Note(start=29.500000, end=29.748958, pitch=74, velocity=80), Note(start=29.750000, end=29.998958, pitch=76, velocity=80), Note(start=30.000000, end=30.248958, pitch=73, velocity=80), Note(start=30.250000, end=31.248958, pitch=74, velocity=105), Note(start=31.250000, end=31.748958, pitch=74, velocity=95), Note(start=31.750000, end=32.248958, pitch=69, velocity=80), Note(start=32.250000, end=32.498958, pitch=71, velocity=105), Note(start=32.500000, end=32.748958, pitch=69, velocity=80), Note(start=32.750000, end=32.998958, pitch=71, velocity=80), Note(start=33.000000, end=33.248958, pitch=73, velocity=80), Note(start=33.250000, end=33.748958, pitch=74, velocity=95), Note(start=33.750000, end=34.248958, pitch=69, velocity=80), Note(start=34.250000, end=34.498958, pitch=71, velocity=105), Note(start=34.500000, end=34.748958, pitch=69, velocity=80), Note(start=34.750000, end=34.998958, pitch=71, velocity=80), Note(start=35.000000, end=35.248958, pitch=73, velocity=80), Note(start=35.250000, end=35.748958, pitch=74, velocity=95), Note(start=35.750000, end=36.248958, pitch=69, velocity=80), Note(start=36.250000, end=36.498958, pitch=71, velocity=105), Note(start=36.500000, end=36.748958, pitch=69, velocity=80), Note(start=36.750000, end=36.998958, pitch=71, velocity=80), Note(start=37.000000, end=37.248958, pitch=73, velocity=80), Note(start=37.250000, end=37.498958, pitch=74, velocity=95), Note(start=37.500000, end=37.748958, pitch=73, velocity=80), Note(start=37.750000, end=37.998958, pitch=74, velocity=80), Note(start=38.000000, end=38.248958, pitch=76, velocity=80), Note(start=38.250000, end=38.498958, pitch=78, velocity=105), Note(start=38.500000, end=38.748958, pitch=76, velocity=80), Note(start=38.750000, end=38.998958, pitch=74, velocity=80), Note(start=39.000000, end=39.248958, pitch=78, velocity=80), Note(start=39.250000, end=39.748958, pitch=76, velocity=95), Note(start=39.750000, end=40.248958, pitch=81, velocity=80), Note(start=40.250000, end=40.498958, pitch=71, velocity=105), Note(start=40.500000, end=40.748958, pitch=69, velocity=80), Note(start=40.750000, end=40.998958, pitch=71, velocity=80), Note(start=41.000000, end=41.248958, pitch=73, velocity=80), Note(start=41.250000, end=41.748958, pitch=74, velocity=95), Note(start=41.750000, end=42.248958, pitch=69, velocity=80), Note(start=42.250000, end=42.498958, pitch=71, velocity=105), Note(start=42.500000, end=42.748958, pitch=69, velocity=80), Note(start=42.750000, end=42.998958, pitch=71, velocity=80), Note(start=43.000000, end=43.248958, pitch=73, velocity=80), Note(start=43.250000, end=43.748958, pitch=74, velocity=95), Note(start=43.750000, end=43.998958, pitch=76, velocity=80), Note(start=44.000000, end=44.248958, pitch=78, velocity=80), Note(start=44.250000, end=44.498958, pitch=79, velocity=105), Note(start=44.500000, end=44.748958, pitch=78, velocity=80), Note(start=44.750000, end=44.998958, pitch=76, velocity=80), Note(start=45.000000, end=45.248958, pitch=79, velocity=80), Note(start=45.250000, end=45.498958, pitch=78, velocity=95), Note(start=45.500000, end=45.748958, pitch=76, velocity=80), Note(start=45.750000, end=45.998958, pitch=74, velocity=80), Note(start=46.000000, end=46.248958, pitch=78, velocity=80), Note(start=46.250000, end=46.498958, pitch=76, velocity=105), Note(start=46.500000, end=46.748958, pitch=74, velocity=80), Note(start=46.750000, end=46.998958, pitch=73, velocity=80), Note(start=47.000000, end=47.248958, pitch=74, velocity=80), Note(start=47.250000, end=48.248958, pitch=76, velocity=95), Note(start=48.250000, end=48.498958, pitch=71, velocity=105), Note(start=48.500000, end=48.748958, pitch=69, velocity=80), Note(start=48.750000, end=48.998958, pitch=71, velocity=80), Note(start=49.000000, end=49.248958, pitch=73, velocity=80), Note(start=49.250000, end=49.748958, pitch=74, velocity=95), Note(start=49.750000, end=50.248958, pitch=69, velocity=80), Note(start=50.250000, end=50.498958, pitch=71, velocity=105), Note(start=50.500000, end=50.748958, pitch=69, velocity=80), Note(start=50.750000, end=50.998958, pitch=71, velocity=80), Note(start=51.000000, end=51.248958, pitch=73, velocity=80), Note(start=51.250000, end=51.748958, pitch=74, velocity=95), Note(start=51.750000, end=52.248958, pitch=69, velocity=80), Note(start=52.250000, end=52.498958, pitch=71, velocity=105), Note(start=52.500000, end=52.748958, pitch=69, velocity=80), Note(start=52.750000, end=52.998958, pitch=71, velocity=80), Note(start=53.000000, end=53.248958, pitch=73, velocity=80), Note(start=53.250000, end=53.498958, pitch=74, velocity=95), Note(start=53.500000, end=53.748958, pitch=73, velocity=80), Note(start=53.750000, end=53.998958, pitch=74, velocity=80), Note(start=54.000000, end=54.248958, pitch=76, velocity=80), Note(start=54.250000, end=54.498958, pitch=78, velocity=105), Note(start=54.500000, end=54.748958, pitch=76, velocity=80), Note(start=54.750000, end=54.998958, pitch=74, velocity=80), Note(start=55.000000, end=55.248958, pitch=78, velocity=80), Note(start=55.250000, end=55.748958, pitch=76, velocity=95), Note(start=55.750000, end=56.248958, pitch=81, velocity=80), Note(start=56.250000, end=56.498958, pitch=71, velocity=105), Note(start=56.500000, end=56.748958, pitch=69, velocity=80), Note(start=56.750000, end=56.998958, pitch=71, velocity=80), Note(start=57.000000, end=57.248958, pitch=73, velocity=80), Note(start=57.250000, end=57.748958, pitch=74, velocity=95), Note(start=57.750000, end=58.248958, pitch=69, velocity=80), Note(start=58.250000, end=58.498958, pitch=71, velocity=105), Note(start=58.500000, end=58.748958, pitch=69, velocity=80), Note(start=58.750000, end=58.998958, pitch=71, velocity=80), Note(start=59.000000, end=59.248958, pitch=73, velocity=80), Note(start=59.250000, end=59.748958, pitch=74, velocity=95), Note(start=59.750000, end=59.998958, pitch=76, velocity=80), Note(start=60.000000, end=60.248958, pitch=78, velocity=80), Note(start=60.250000, end=60.498958, pitch=79, velocity=105), Note(start=60.500000, end=60.748958, pitch=78, velocity=80), Note(start=60.750000, end=60.998958, pitch=76, velocity=80), Note(start=61.000000, end=61.248958, pitch=79, velocity=80), Note(start=61.250000, end=61.498958, pitch=78, velocity=95), Note(start=61.500000, end=61.748958, pitch=76, velocity=80), Note(start=61.750000, end=61.998958, pitch=74, velocity=80), Note(start=62.000000, end=62.248958, pitch=78, velocity=80), Note(start=62.250000, end=62.498958, pitch=76, velocity=105), Note(start=62.500000, end=62.748958, pitch=74, velocity=80), Note(start=62.750000, end=62.998958, pitch=73, velocity=80), Note(start=63.000000, end=63.248958, pitch=76, velocity=80), Note(start=63.250000, end=64.248958, pitch=74, velocity=95)]\n",
      "[Note(start=0.250000, end=2.248958, pitch=50, velocity=75), Note(start=0.250000, end=2.248958, pitch=54, velocity=75), Note(start=0.250000, end=2.248958, pitch=57, velocity=75), Note(start=2.250000, end=4.248958, pitch=55, velocity=75), Note(start=2.250000, end=4.248958, pitch=59, velocity=75), Note(start=2.250000, end=4.248958, pitch=62, velocity=75), Note(start=4.250000, end=6.248958, pitch=50, velocity=75), Note(start=4.250000, end=6.248958, pitch=54, velocity=75), Note(start=4.250000, end=6.248958, pitch=57, velocity=75), Note(start=6.250000, end=8.248958, pitch=52, velocity=75), Note(start=6.250000, end=8.248958, pitch=55, velocity=75), Note(start=6.250000, end=8.248958, pitch=59, velocity=75), Note(start=8.250000, end=10.248958, pitch=50, velocity=75), Note(start=8.250000, end=10.248958, pitch=54, velocity=75), Note(start=8.250000, end=10.248958, pitch=57, velocity=75), Note(start=10.250000, end=12.248958, pitch=55, velocity=75), Note(start=10.250000, end=12.248958, pitch=59, velocity=75), Note(start=10.250000, end=12.248958, pitch=62, velocity=75), Note(start=12.250000, end=14.248958, pitch=55, velocity=75), Note(start=12.250000, end=14.248958, pitch=59, velocity=75), Note(start=12.250000, end=14.248958, pitch=62, velocity=75), Note(start=14.250000, end=16.248958, pitch=50, velocity=75), Note(start=14.250000, end=16.248958, pitch=54, velocity=75), Note(start=14.250000, end=16.248958, pitch=57, velocity=75), Note(start=16.250000, end=18.248958, pitch=50, velocity=75), Note(start=16.250000, end=18.248958, pitch=54, velocity=75), Note(start=16.250000, end=18.248958, pitch=57, velocity=75), Note(start=18.250000, end=20.248958, pitch=55, velocity=75), Note(start=18.250000, end=20.248958, pitch=59, velocity=75), Note(start=18.250000, end=20.248958, pitch=62, velocity=75), Note(start=20.250000, end=22.248958, pitch=50, velocity=75), Note(start=20.250000, end=22.248958, pitch=54, velocity=75), Note(start=20.250000, end=22.248958, pitch=57, velocity=75), Note(start=22.250000, end=24.248958, pitch=52, velocity=75), Note(start=22.250000, end=24.248958, pitch=55, velocity=75), Note(start=22.250000, end=24.248958, pitch=59, velocity=75), Note(start=24.250000, end=26.248958, pitch=50, velocity=75), Note(start=24.250000, end=26.248958, pitch=54, velocity=75), Note(start=24.250000, end=26.248958, pitch=57, velocity=75), Note(start=26.250000, end=28.248958, pitch=55, velocity=75), Note(start=26.250000, end=28.248958, pitch=59, velocity=75), Note(start=26.250000, end=28.248958, pitch=62, velocity=75), Note(start=28.250000, end=30.248958, pitch=55, velocity=75), Note(start=28.250000, end=30.248958, pitch=59, velocity=75), Note(start=28.250000, end=30.248958, pitch=62, velocity=75), Note(start=30.250000, end=32.248958, pitch=50, velocity=75), Note(start=30.250000, end=32.248958, pitch=54, velocity=75), Note(start=30.250000, end=32.248958, pitch=57, velocity=75), Note(start=32.250000, end=34.248958, pitch=55, velocity=75), Note(start=32.250000, end=34.248958, pitch=59, velocity=75), Note(start=32.250000, end=34.248958, pitch=62, velocity=75), Note(start=34.250000, end=36.248958, pitch=55, velocity=75), Note(start=34.250000, end=36.248958, pitch=59, velocity=75), Note(start=34.250000, end=36.248958, pitch=62, velocity=75), Note(start=36.250000, end=38.248958, pitch=55, velocity=75), Note(start=36.250000, end=38.248958, pitch=59, velocity=75), Note(start=36.250000, end=38.248958, pitch=62, velocity=75), Note(start=38.250000, end=40.248958, pitch=52, velocity=75), Note(start=38.250000, end=40.248958, pitch=56, velocity=75), Note(start=38.250000, end=40.248958, pitch=59, velocity=75), Note(start=40.250000, end=42.248958, pitch=55, velocity=75), Note(start=40.250000, end=42.248958, pitch=59, velocity=75), Note(start=40.250000, end=42.248958, pitch=62, velocity=75), Note(start=42.250000, end=44.248958, pitch=55, velocity=75), Note(start=42.250000, end=44.248958, pitch=59, velocity=75), Note(start=42.250000, end=44.248958, pitch=62, velocity=75), Note(start=44.250000, end=46.248958, pitch=55, velocity=75), Note(start=44.250000, end=46.248958, pitch=59, velocity=75), Note(start=44.250000, end=46.248958, pitch=62, velocity=75), Note(start=46.250000, end=48.248958, pitch=52, velocity=75), Note(start=46.250000, end=48.248958, pitch=56, velocity=75), Note(start=46.250000, end=48.248958, pitch=59, velocity=75), Note(start=48.250000, end=50.248958, pitch=55, velocity=75), Note(start=48.250000, end=50.248958, pitch=59, velocity=75), Note(start=48.250000, end=50.248958, pitch=62, velocity=75), Note(start=50.250000, end=52.248958, pitch=55, velocity=75), Note(start=50.250000, end=52.248958, pitch=59, velocity=75), Note(start=50.250000, end=52.248958, pitch=62, velocity=75), Note(start=52.250000, end=54.248958, pitch=55, velocity=75), Note(start=52.250000, end=54.248958, pitch=59, velocity=75), Note(start=52.250000, end=54.248958, pitch=62, velocity=75), Note(start=54.250000, end=56.248958, pitch=52, velocity=75), Note(start=54.250000, end=56.248958, pitch=56, velocity=75), Note(start=54.250000, end=56.248958, pitch=59, velocity=75), Note(start=56.250000, end=58.248958, pitch=55, velocity=75), Note(start=56.250000, end=58.248958, pitch=59, velocity=75), Note(start=56.250000, end=58.248958, pitch=62, velocity=75), Note(start=58.250000, end=60.248958, pitch=55, velocity=75), Note(start=58.250000, end=60.248958, pitch=59, velocity=75), Note(start=58.250000, end=60.248958, pitch=62, velocity=75), Note(start=60.250000, end=62.248958, pitch=55, velocity=75), Note(start=60.250000, end=62.248958, pitch=59, velocity=75), Note(start=60.250000, end=62.248958, pitch=62, velocity=75), Note(start=62.250000, end=64.248958, pitch=57, velocity=75), Note(start=62.250000, end=64.248958, pitch=61, velocity=75), Note(start=62.250000, end=64.248958, pitch=64, velocity=75)]\n"
     ]
    }
   ],
   "source": [
    "for i in midi_data.instruments:\n",
    "    print(i.notes)"
   ]
  },
  {
   "cell_type": "code",
   "execution_count": 3,
   "metadata": {},
   "outputs": [],
   "source": [
    "import pretty_midi\n",
    "import numpy as np\n",
    "import torch\n",
    "import torch.nn as nn\n",
    "from torch.autograd import Variable\n",
    "import torch.utils.data as data\n",
    "import os\n",
    "import random\n",
    "\n",
    "import sys\n",
    "\n",
    "# Download midi library from here: http://deeplearning.net/tutorial/rnnrbm.html\n",
    "# and do sysn.path.append with it, like below.\n",
    "# Direct link: http://www.iro.umontreal.ca/~lisa/deep/midi.zip\n"
   ]
  },
  {
   "cell_type": "code",
   "execution_count": 4,
   "metadata": {},
   "outputs": [],
   "source": [
    "sys.path.append(\"C:/Users/seanz/Documents/WORKFILE/CUHKSZ/Deep Learning/SILDES\\CUHK_SZ_DL/Final_project/music generation/1.rnn-sequence-generation/midi/\")\n",
    "\n",
    "from utils import midiread, midiwrite"
   ]
  },
  {
   "cell_type": "code",
   "execution_count": 5,
   "metadata": {},
   "outputs": [],
   "source": [
    "def midi_filename_to_piano_roll(midi_filename):\n",
    "    \n",
    "    midi_data = midiread(midi_filename, dt=0.3)\n",
    "    \n",
    "    piano_roll = midi_data.piano_roll.transpose()\n",
    "    \n",
    "    # Binarize the pressed notes\n",
    "    piano_roll[piano_roll > 0] = 1\n",
    "    \n",
    "    return piano_roll\n",
    "\n",
    "\n",
    "def pad_piano_roll(piano_roll, max_length=132333, pad_value=0):\n",
    "    \n",
    "    # We hardcode 128 -- because we will always use only\n",
    "    # 128 pitches\n",
    "    \n",
    "    original_piano_roll_length = piano_roll.shape[1]\n",
    "    \n",
    "    padded_piano_roll = np.zeros((88, max_length))\n",
    "    padded_piano_roll[:] = pad_value\n",
    "    \n",
    "    padded_piano_roll[:, :original_piano_roll_length] = piano_roll\n",
    "\n",
    "    return padded_piano_roll\n",
    "\n",
    "\n",
    "class NotesGenerationDataset(data.Dataset):\n",
    "    \n",
    "    def __init__(self, midi_folder_path, longest_sequence_length=1491):\n",
    "        \n",
    "        self.midi_folder_path = midi_folder_path\n",
    "        \n",
    "        midi_filenames = os.listdir(midi_folder_path)\n",
    "        \n",
    "        self.longest_sequence_length = longest_sequence_length\n",
    "        \n",
    "        midi_full_filenames = map(lambda filename: os.path.join(midi_folder_path, filename),\n",
    "                                  midi_filenames)\n",
    "        \n",
    "        self.midi_full_filenames = midi_full_filenames\n",
    "        \n",
    "        if longest_sequence_length is None:\n",
    "            \n",
    "            self.update_the_max_length()\n",
    "    \n",
    "    \n",
    "    def update_the_max_length(self):\n",
    "        \"\"\"Recomputes the longest sequence constant of the dataset.\n",
    "\n",
    "        Reads all the midi files from the midi folder and finds the max\n",
    "        length.\n",
    "        \"\"\"\n",
    "        \n",
    "        sequences_lengths = map(lambda filename: midi_filename_to_piano_roll(filename).shape[1],\n",
    "                                self.midi_full_filenames)\n",
    "        \n",
    "        max_length = max(sequences_lengths)\n",
    "        \n",
    "        self.longest_sequence_length = max_length\n",
    "                \n",
    "    \n",
    "    def __len__(self):\n",
    "        \n",
    "        return len(self.midi_full_filenames)\n",
    "    \n",
    "    def __getitem__(self, index):\n",
    "        \n",
    "        midi_full_filename = self.midi_full_filenames[index]\n",
    "        \n",
    "        piano_roll = midi_filename_to_piano_roll(midi_full_filename)\n",
    "        \n",
    "        # -1 because we will shift it\n",
    "        sequence_length = piano_roll.shape[1] - 1\n",
    "        \n",
    "        # Shifted by one time step\n",
    "        input_sequence = piano_roll[:, :-1]\n",
    "        ground_truth_sequence = piano_roll[:, 1:]\n",
    "                \n",
    "        # pad sequence so that all of them have the same lenght\n",
    "        # Otherwise the batching won't work\n",
    "        input_sequence_padded = pad_piano_roll(input_sequence, max_length=self.longest_sequence_length)\n",
    "        \n",
    "        ground_truth_sequence_padded = pad_piano_roll(ground_truth_sequence,\n",
    "                                                      max_length=self.longest_sequence_length,\n",
    "                                                      pad_value=-100)\n",
    "                \n",
    "        input_sequence_padded = input_sequence_padded.transpose()\n",
    "        ground_truth_sequence_padded = ground_truth_sequence_padded.transpose()\n",
    "        \n",
    "        return (torch.FloatTensor(input_sequence_padded),\n",
    "                torch.LongTensor(ground_truth_sequence_padded),\n",
    "                torch.LongTensor([sequence_length]) )\n",
    "\n",
    "    \n",
    "def post_process_sequence_batch(batch_tuple):\n",
    "    \n",
    "    input_sequences, output_sequences, lengths = batch_tuple\n",
    "    \n",
    "    splitted_input_sequence_batch = input_sequences.split(split_size=1)\n",
    "    splitted_output_sequence_batch = output_sequences.split(split_size=1)\n",
    "    splitted_lengths_batch = lengths.split(split_size=1)\n",
    "\n",
    "    training_data_tuples = zip(splitted_input_sequence_batch,\n",
    "                               splitted_output_sequence_batch,\n",
    "                               splitted_lengths_batch)\n",
    "\n",
    "    training_data_tuples_sorted = sorted(training_data_tuples,\n",
    "                                         key=lambda p: int(p[2]),\n",
    "                                         reverse=True)\n",
    "\n",
    "    splitted_input_sequence_batch, splitted_output_sequence_batch, splitted_lengths_batch = zip(*training_data_tuples_sorted)\n",
    "\n",
    "    input_sequence_batch_sorted = torch.cat(splitted_input_sequence_batch)\n",
    "    output_sequence_batch_sorted = torch.cat(splitted_output_sequence_batch)\n",
    "    lengths_batch_sorted = torch.cat(splitted_lengths_batch)\n",
    "    \n",
    "    # Here we trim overall data matrix using the size of the longest sequence\n",
    "    input_sequence_batch_sorted = input_sequence_batch_sorted[:, :lengths_batch_sorted[0, 0], :]\n",
    "    output_sequence_batch_sorted = output_sequence_batch_sorted[:, :lengths_batch_sorted[0, 0], :]\n",
    "    \n",
    "    input_sequence_batch_transposed = input_sequence_batch_sorted.transpose(0, 1)\n",
    "    \n",
    "    # pytorch's api for rnns wants lenghts to be list of ints\n",
    "    lengths_batch_sorted_list = list(lengths_batch_sorted)\n",
    "    lengths_batch_sorted_list = map(lambda x: int(x), lengths_batch_sorted_list)\n",
    "    \n",
    "    return input_sequence_batch_transposed, output_sequence_batch_sorted, lengths_batch_sorted_list"
   ]
  },
  {
   "cell_type": "code",
   "execution_count": 6,
   "metadata": {},
   "outputs": [],
   "source": [
    "trainset = NotesGenerationDataset('C:/Users/seanz/Documents/WORKFILE/CUHKSZ/Deep Learning/SILDES/CUHK_SZ_DL/Final_project/music generation/1.rnn-sequence-generation/Nottingham/Nottingham/train/')\n",
    "\n",
    "trainset_loader = torch.utils.data.DataLoader(trainset, batch_size=120,\n",
    "                                              shuffle=True, num_workers=4, drop_last=True)"
   ]
  },
  {
   "cell_type": "code",
   "execution_count": 7,
   "metadata": {
    "collapsed": true
   },
   "outputs": [
    {
     "ename": "TypeError",
     "evalue": "It is not a valid midi file!",
     "output_type": "error",
     "traceback": [
      "\u001b[1;31m---------------------------------------------------------------------------\u001b[0m",
      "\u001b[1;31mTypeError\u001b[0m                                 Traceback (most recent call last)",
      "\u001b[1;32m<ipython-input-7-53d1fc21cc92>\u001b[0m in \u001b[0;36m<module>\u001b[1;34m()\u001b[0m\n\u001b[1;32m----> 1\u001b[1;33m \u001b[0mvalset\u001b[0m \u001b[1;33m=\u001b[0m \u001b[0mNotesGenerationDataset\u001b[0m\u001b[1;33m(\u001b[0m\u001b[1;34m'C:/Users/seanz/Documents/WORKFILE/CUHKSZ/Deep Learning/SILDES/CUHK_SZ_DL/Final_project/music generation/1.rnn-sequence-generation/Nottingham/Nottingham/valid/'\u001b[0m\u001b[1;33m,\u001b[0m \u001b[0mlongest_sequence_length\u001b[0m\u001b[1;33m=\u001b[0m\u001b[1;32mNone\u001b[0m\u001b[1;33m)\u001b[0m\u001b[1;33m\u001b[0m\u001b[0m\n\u001b[0m\u001b[0;32m      2\u001b[0m \u001b[1;33m\u001b[0m\u001b[0m\n\u001b[0;32m      3\u001b[0m \u001b[0mvalset_loader\u001b[0m \u001b[1;33m=\u001b[0m \u001b[0mtorch\u001b[0m\u001b[1;33m.\u001b[0m\u001b[0mutils\u001b[0m\u001b[1;33m.\u001b[0m\u001b[0mdata\u001b[0m\u001b[1;33m.\u001b[0m\u001b[0mDataLoader\u001b[0m\u001b[1;33m(\u001b[0m\u001b[0mvalset\u001b[0m\u001b[1;33m,\u001b[0m \u001b[0mbatch_size\u001b[0m\u001b[1;33m=\u001b[0m\u001b[1;36m30\u001b[0m\u001b[1;33m,\u001b[0m \u001b[0mshuffle\u001b[0m\u001b[1;33m=\u001b[0m\u001b[1;32mFalse\u001b[0m\u001b[1;33m,\u001b[0m \u001b[0mnum_workers\u001b[0m\u001b[1;33m=\u001b[0m\u001b[1;36m4\u001b[0m\u001b[1;33m,\u001b[0m \u001b[0mdrop_last\u001b[0m\u001b[1;33m=\u001b[0m\u001b[1;32mFalse\u001b[0m\u001b[1;33m)\u001b[0m\u001b[1;33m\u001b[0m\u001b[0m\n",
      "\u001b[1;32m<ipython-input-5-e6853ff2a157>\u001b[0m in \u001b[0;36m__init__\u001b[1;34m(self, midi_folder_path, longest_sequence_length)\u001b[0m\n\u001b[0;32m     43\u001b[0m         \u001b[1;32mif\u001b[0m \u001b[0mlongest_sequence_length\u001b[0m \u001b[1;32mis\u001b[0m \u001b[1;32mNone\u001b[0m\u001b[1;33m:\u001b[0m\u001b[1;33m\u001b[0m\u001b[0m\n\u001b[0;32m     44\u001b[0m \u001b[1;33m\u001b[0m\u001b[0m\n\u001b[1;32m---> 45\u001b[1;33m             \u001b[0mself\u001b[0m\u001b[1;33m.\u001b[0m\u001b[0mupdate_the_max_length\u001b[0m\u001b[1;33m(\u001b[0m\u001b[1;33m)\u001b[0m\u001b[1;33m\u001b[0m\u001b[0m\n\u001b[0m\u001b[0;32m     46\u001b[0m \u001b[1;33m\u001b[0m\u001b[0m\n\u001b[0;32m     47\u001b[0m \u001b[1;33m\u001b[0m\u001b[0m\n",
      "\u001b[1;32m<ipython-input-5-e6853ff2a157>\u001b[0m in \u001b[0;36mupdate_the_max_length\u001b[1;34m(self)\u001b[0m\n\u001b[0;32m     56\u001b[0m                                 self.midi_full_filenames)\n\u001b[0;32m     57\u001b[0m \u001b[1;33m\u001b[0m\u001b[0m\n\u001b[1;32m---> 58\u001b[1;33m         \u001b[0mmax_length\u001b[0m \u001b[1;33m=\u001b[0m \u001b[0mmax\u001b[0m\u001b[1;33m(\u001b[0m\u001b[0msequences_lengths\u001b[0m\u001b[1;33m)\u001b[0m\u001b[1;33m\u001b[0m\u001b[0m\n\u001b[0m\u001b[0;32m     59\u001b[0m \u001b[1;33m\u001b[0m\u001b[0m\n\u001b[0;32m     60\u001b[0m         \u001b[0mself\u001b[0m\u001b[1;33m.\u001b[0m\u001b[0mlongest_sequence_length\u001b[0m \u001b[1;33m=\u001b[0m \u001b[0mmax_length\u001b[0m\u001b[1;33m\u001b[0m\u001b[0m\n",
      "\u001b[1;32m<ipython-input-5-e6853ff2a157>\u001b[0m in \u001b[0;36m<lambda>\u001b[1;34m(filename)\u001b[0m\n\u001b[0;32m     53\u001b[0m         \"\"\"\n\u001b[0;32m     54\u001b[0m \u001b[1;33m\u001b[0m\u001b[0m\n\u001b[1;32m---> 55\u001b[1;33m         sequences_lengths = map(lambda filename: midi_filename_to_piano_roll(filename).shape[1],\n\u001b[0m\u001b[0;32m     56\u001b[0m                                 self.midi_full_filenames)\n\u001b[0;32m     57\u001b[0m \u001b[1;33m\u001b[0m\u001b[0m\n",
      "\u001b[1;32m<ipython-input-5-e6853ff2a157>\u001b[0m in \u001b[0;36mmidi_filename_to_piano_roll\u001b[1;34m(midi_filename)\u001b[0m\n\u001b[0;32m      1\u001b[0m \u001b[1;32mdef\u001b[0m \u001b[0mmidi_filename_to_piano_roll\u001b[0m\u001b[1;33m(\u001b[0m\u001b[0mmidi_filename\u001b[0m\u001b[1;33m)\u001b[0m\u001b[1;33m:\u001b[0m\u001b[1;33m\u001b[0m\u001b[0m\n\u001b[0;32m      2\u001b[0m \u001b[1;33m\u001b[0m\u001b[0m\n\u001b[1;32m----> 3\u001b[1;33m     \u001b[0mmidi_data\u001b[0m \u001b[1;33m=\u001b[0m \u001b[0mmidiread\u001b[0m\u001b[1;33m(\u001b[0m\u001b[0mmidi_filename\u001b[0m\u001b[1;33m,\u001b[0m \u001b[0mdt\u001b[0m\u001b[1;33m=\u001b[0m\u001b[1;36m0.3\u001b[0m\u001b[1;33m)\u001b[0m\u001b[1;33m\u001b[0m\u001b[0m\n\u001b[0m\u001b[0;32m      4\u001b[0m \u001b[1;33m\u001b[0m\u001b[0m\n\u001b[0;32m      5\u001b[0m     \u001b[0mpiano_roll\u001b[0m \u001b[1;33m=\u001b[0m \u001b[0mmidi_data\u001b[0m\u001b[1;33m.\u001b[0m\u001b[0mpiano_roll\u001b[0m\u001b[1;33m.\u001b[0m\u001b[0mtranspose\u001b[0m\u001b[1;33m(\u001b[0m\u001b[1;33m)\u001b[0m\u001b[1;33m\u001b[0m\u001b[0m\n",
      "\u001b[1;32mC:/Users/seanz/Documents/WORKFILE/CUHKSZ/Deep Learning/SILDES\\CUHK_SZ_DL/Final_project/music generation/1.rnn-sequence-generation/midi\\utils.py\u001b[0m in \u001b[0;36m__init__\u001b[1;34m(self, filename, r, dt)\u001b[0m\n\u001b[0;32m     21\u001b[0m \u001b[1;33m\u001b[0m\u001b[0m\n\u001b[0;32m     22\u001b[0m     \u001b[0mmidi_in\u001b[0m \u001b[1;33m=\u001b[0m \u001b[0mMidiInFile\u001b[0m\u001b[1;33m(\u001b[0m\u001b[0mself\u001b[0m\u001b[1;33m,\u001b[0m \u001b[0mfilename\u001b[0m\u001b[1;33m)\u001b[0m\u001b[1;33m\u001b[0m\u001b[0m\n\u001b[1;32m---> 23\u001b[1;33m     \u001b[0mmidi_in\u001b[0m\u001b[1;33m.\u001b[0m\u001b[0mread\u001b[0m\u001b[1;33m(\u001b[0m\u001b[1;33m)\u001b[0m\u001b[1;33m\u001b[0m\u001b[0m\n\u001b[0m\u001b[0;32m     24\u001b[0m     \u001b[0mself\u001b[0m\u001b[1;33m.\u001b[0m\u001b[0mnotes\u001b[0m \u001b[1;33m=\u001b[0m \u001b[1;33m[\u001b[0m\u001b[0mn\u001b[0m \u001b[1;32mfor\u001b[0m \u001b[0mn\u001b[0m \u001b[1;32min\u001b[0m \u001b[0mself\u001b[0m\u001b[1;33m.\u001b[0m\u001b[0mnotes\u001b[0m \u001b[1;32mif\u001b[0m \u001b[0mn\u001b[0m\u001b[1;33m[\u001b[0m\u001b[1;36m2\u001b[0m\u001b[1;33m]\u001b[0m \u001b[1;32mis\u001b[0m \u001b[1;32mnot\u001b[0m \u001b[1;32mNone\u001b[0m\u001b[1;33m]\u001b[0m  \u001b[1;31m# purge incomplete notes\u001b[0m\u001b[1;33m\u001b[0m\u001b[0m\n\u001b[0;32m     25\u001b[0m \u001b[1;33m\u001b[0m\u001b[0m\n",
      "\u001b[1;32mC:/Users/seanz/Documents/WORKFILE/CUHKSZ/Deep Learning/SILDES\\CUHK_SZ_DL/Final_project/music generation/1.rnn-sequence-generation/midi\\MidiInFile.py\u001b[0m in \u001b[0;36mread\u001b[1;34m(self)\u001b[0m\n\u001b[0;32m     45\u001b[0m         \u001b[1;34m\"Start parsing the file\"\u001b[0m\u001b[1;33m\u001b[0m\u001b[0m\n\u001b[0;32m     46\u001b[0m         \u001b[0mp\u001b[0m \u001b[1;33m=\u001b[0m \u001b[0mself\u001b[0m\u001b[1;33m.\u001b[0m\u001b[0mparser\u001b[0m\u001b[1;33m\u001b[0m\u001b[0m\n\u001b[1;32m---> 47\u001b[1;33m         \u001b[0mp\u001b[0m\u001b[1;33m.\u001b[0m\u001b[0mparseMThdChunk\u001b[0m\u001b[1;33m(\u001b[0m\u001b[1;33m)\u001b[0m\u001b[1;33m\u001b[0m\u001b[0m\n\u001b[0m\u001b[0;32m     48\u001b[0m         \u001b[0mp\u001b[0m\u001b[1;33m.\u001b[0m\u001b[0mparseMTrkChunks\u001b[0m\u001b[1;33m(\u001b[0m\u001b[1;33m)\u001b[0m\u001b[1;33m\u001b[0m\u001b[0m\n\u001b[0;32m     49\u001b[0m \u001b[1;33m\u001b[0m\u001b[0m\n",
      "\u001b[1;32mC:/Users/seanz/Documents/WORKFILE/CUHKSZ/Deep Learning/SILDES\\CUHK_SZ_DL/Final_project/music generation/1.rnn-sequence-generation/midi\\MidiFileParser.py\u001b[0m in \u001b[0;36mparseMThdChunk\u001b[1;34m(self)\u001b[0m\n\u001b[0;32m     46\u001b[0m         \u001b[1;31m# check if it is a proper midi file\u001b[0m\u001b[1;33m\u001b[0m\u001b[1;33m\u001b[0m\u001b[0m\n\u001b[0;32m     47\u001b[0m         \u001b[1;32mif\u001b[0m \u001b[0mheader_chunk_type\u001b[0m \u001b[1;33m!=\u001b[0m \u001b[1;34m'MThd'\u001b[0m\u001b[1;33m:\u001b[0m\u001b[1;33m\u001b[0m\u001b[0m\n\u001b[1;32m---> 48\u001b[1;33m             \u001b[1;32mraise\u001b[0m \u001b[0mTypeError\u001b[0m\u001b[1;33m(\u001b[0m\u001b[1;34m\"It is not a valid midi file!\"\u001b[0m\u001b[1;33m)\u001b[0m\u001b[1;33m\u001b[0m\u001b[0m\n\u001b[0m\u001b[0;32m     49\u001b[0m \u001b[1;33m\u001b[0m\u001b[0m\n\u001b[0;32m     50\u001b[0m         \u001b[1;31m# Header values are at fixed locations, so no reason to be clever\u001b[0m\u001b[1;33m\u001b[0m\u001b[1;33m\u001b[0m\u001b[0m\n",
      "\u001b[1;31mTypeError\u001b[0m: It is not a valid midi file!"
     ]
    }
   ],
   "source": [
    "valset = NotesGenerationDataset('C:/Users/seanz/Documents/WORKFILE/CUHKSZ/Deep Learning/SILDES/CUHK_SZ_DL/Final_project/music generation/1.rnn-sequence-generation/Nottingham/Nottingham/valid/', longest_sequence_length=None)\n",
    "\n",
    "valset_loader = torch.utils.data.DataLoader(valset, batch_size=30, shuffle=False, num_workers=4, drop_last=False)"
   ]
  },
  {
   "cell_type": "code",
   "execution_count": 8,
   "metadata": {},
   "outputs": [],
   "source": [
    "class RNN(nn.Module):\n",
    "    \n",
    "    def __init__(self, input_size, hidden_size, num_classes, n_layers=2):\n",
    "        \n",
    "        super(RNN, self).__init__()\n",
    "        \n",
    "        self.input_size = input_size\n",
    "        self.hidden_size = hidden_size\n",
    "        self.num_classes = num_classes\n",
    "        self.n_layers = n_layers\n",
    "        \n",
    "        self.notes_encoder = nn.Linear(in_features=input_size, out_features=hidden_size)\n",
    "        \n",
    "        self.lstm = nn.LSTM(hidden_size, hidden_size, n_layers)\n",
    "        \n",
    "        self.logits_fc = nn.Linear(hidden_size, num_classes)\n",
    "    \n",
    "    \n",
    "    def forward(self, input_sequences, input_sequences_lengths, hidden=None):\n",
    "        \n",
    "        batch_size = input_sequences.shape[1]\n",
    "\n",
    "        notes_encoded = self.notes_encoder(input_sequences)\n",
    "        \n",
    "        # Here we run rnns only on non-padded regions of the batch\n",
    "        packed = torch.nn.utils.rnn.pack_padded_sequence(notes_encoded, input_sequences_lengths)\n",
    "        outputs, hidden = self.lstm(packed, hidden)\n",
    "        outputs, output_lengths = torch.nn.utils.rnn.pad_packed_sequence(outputs) # unpack (back to padded)\n",
    "        \n",
    "        logits = self.logits_fc(outputs)\n",
    "                \n",
    "        logits = logits.transpose(0, 1).contiguous()\n",
    "        \n",
    "        neg_logits = (1 - logits)\n",
    "        \n",
    "        # Since the BCE loss doesn't support masking, we use the crossentropy\n",
    "        binary_logits = torch.stack((logits, neg_logits), dim=3).contiguous()\n",
    "        \n",
    "        logits_flatten = binary_logits.view(-1, 2)\n",
    "        \n",
    "        return logits_flatten, hidden"
   ]
  },
  {
   "cell_type": "code",
   "execution_count": 10,
   "metadata": {},
   "outputs": [
    {
     "name": "stderr",
     "output_type": "stream",
     "text": [
      "C:\\Users\\seanz\\Anaconda3\\lib\\site-packages\\torch\\nn\\functional.py:52: UserWarning: size_average and reduce args will be deprecated, please use reduction='sum' instead.\n",
      "  warnings.warn(warning.format(ret))\n"
     ]
    }
   ],
   "source": [
    "rnn = RNN(input_size=88, hidden_size=512, num_classes=88)\n",
    "# rnn = rnn.cuda()\n",
    "criterion = nn.CrossEntropyLoss()\n",
    "# criterion = nn.CrossEntropyLoss().cuda()\n",
    "\n",
    "criterion_val = nn.CrossEntropyLoss(size_average=False).cuda()\n",
    "\n",
    "learning_rate = 0.001\n",
    "optimizer = torch.optim.Adam(rnn.parameters(), lr=learning_rate)\n"
   ]
  },
  {
   "cell_type": "code",
   "execution_count": null,
   "metadata": {},
   "outputs": [],
   "source": [
    "%matplotlib notebook\n",
    "\n",
    "import sys, os\n",
    "sys.path.append(\"/home/daniil/repos/pytorch-segmentation-detection/\")\n",
    "sys.path.insert(0, '/home/daniil/repos/pytorch-segmentation-detection/vision/')\n",
    "\n",
    "from matplotlib import pyplot as plt\n",
    "\n",
    "# importing a list that can be binded with a figure and update\n",
    "# the figure when being appended\n",
    "from pytorch_segmentation_detection.utils.visualization import VizList\n",
    "\n",
    "# Creating figure, axes and binding to lists \n",
    "f, (loss_axis, validation_axis) = plt.subplots(2, 1)\n",
    "\n",
    "loss_axis.plot([], [])\n",
    "validation_axis.plot([], [])\n",
    "\n",
    "loss_list = VizList()\n",
    "val_list = VizList()\n",
    "\n",
    "loss_list.bind_to_axis(loss_axis)\n",
    "val_list.bind_to_axis(validation_axis)\n",
    "\n",
    "loss_axis.set_title('Training Loss')\n",
    "validation_axis.set_title('Validation Loss')\n",
    "\n",
    "plt.tight_layout()"
   ]
  }
 ],
 "metadata": {
  "kernelspec": {
   "display_name": "Python 3",
   "language": "python",
   "name": "python3"
  },
  "language_info": {
   "codemirror_mode": {
    "name": "ipython",
    "version": 3
   },
   "file_extension": ".py",
   "mimetype": "text/x-python",
   "name": "python",
   "nbconvert_exporter": "python",
   "pygments_lexer": "ipython3",
   "version": "3.7.0"
  }
 },
 "nbformat": 4,
 "nbformat_minor": 2
}
